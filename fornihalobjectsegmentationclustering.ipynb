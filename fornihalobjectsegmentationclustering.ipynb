{
 "cells": [
  {
   "cell_type": "code",
   "execution_count": 30,
   "metadata": {},
   "outputs": [
    {
     "name": "stdout",
     "output_type": "stream",
     "text": [
      "Requirement already satisfied: rhino3dm in c:\\users\\legion\\appdata\\local\\programs\\python\\python310\\lib\\site-packages (8.9.0)\n"
     ]
    },
    {
     "name": "stderr",
     "output_type": "stream",
     "text": [
      "\n",
      "[notice] A new release of pip is available: 23.2.1 -> 25.0.1\n",
      "[notice] To update, run: python.exe -m pip install --upgrade pip\n"
     ]
    }
   ],
   "source": [
    "!pip install rhino3dm"
   ]
  },
  {
   "cell_type": "code",
   "execution_count": 29,
   "metadata": {},
   "outputs": [
    {
     "name": "stdout",
     "output_type": "stream",
     "text": [
      "Geometry Classification Results:\n",
      "  Walls: 20 element(s)\n",
      "  Floors: 14 element(s)\n",
      "  Ceilings: 0 element(s)\n",
      "  Columns: 0 element(s)\n",
      "  Beams: 0 element(s)\n"
     ]
    }
   ],
   "source": [
    "# Non Layers Version\n",
    "\n",
    "import numpy as np\n",
    "import rhino3dm\n",
    "\n",
    "# Function to extract geometry objects from a Rhino3dm model.\n",
    "def extract_geometry(model):\n",
    "    \"\"\"\n",
    "    Extracts geometry objects from a Rhino3dm model.\n",
    "    Returns a list of geometry objects (e.g., surfaces, Breps, Extrusions).\n",
    "    \"\"\"\n",
    "    geometry = []\n",
    "    for obj in model.Objects:\n",
    "        geom = obj.Geometry\n",
    "        if geom:\n",
    "            geometry.append(geom)\n",
    "    return geometry\n",
    "\n",
    "# Function to compute the normal vector for a given surface.\n",
    "def get_normal_vector(surface):\n",
    "    \"\"\"\n",
    "    Computes the normal vector for a given surface.\n",
    "    For Extrusion objects, converts them to a Brep (calling ToBrep with a boolean argument)\n",
    "    and uses the normal of the first face.\n",
    "    For Brep objects, uses the normal of the first face.\n",
    "    If the object has a NormalAt method, it will be used as a fallback.\n",
    "    \"\"\"\n",
    "    try:\n",
    "        type_name = type(surface).__name__\n",
    "        if type_name == \"Extrusion\":\n",
    "            # Convert the Extrusion to a Brep (providing False for splitKinkyFaces)\n",
    "            brep = surface.ToBrep(False)\n",
    "            if brep and len(brep.Faces) > 0:\n",
    "                face = brep.Faces[0]\n",
    "                normal = face.NormalAt(0.5, 0.5)\n",
    "                norm_val = np.linalg.norm([normal.X, normal.Y, normal.Z])\n",
    "                if norm_val != 0:\n",
    "                    return np.array([normal.X, normal.Y, normal.Z]) / norm_val\n",
    "        elif type_name == \"Brep\":\n",
    "            if len(surface.Faces) > 0:\n",
    "                face = surface.Faces[0]\n",
    "                normal = face.NormalAt(0.5, 0.5)\n",
    "                norm_val = np.linalg.norm([normal.X, normal.Y, normal.Z])\n",
    "                if norm_val != 0:\n",
    "                    return np.array([normal.X, normal.Y, normal.Z]) / norm_val\n",
    "        # Fallback: if the surface has a NormalAt method directly.\n",
    "        if hasattr(surface, \"NormalAt\"):\n",
    "            normal = surface.NormalAt(0.5, 0.5)\n",
    "            norm_val = np.linalg.norm([normal.X, normal.Y, normal.Z])\n",
    "            if norm_val != 0:\n",
    "                return np.array([normal.X, normal.Y, normal.Z]) / norm_val\n",
    "    except Exception as e:\n",
    "        print(\"Error computing normal for surface:\", e)\n",
    "    # Fallback normal (horizontal)\n",
    "    return np.array([0, 0, 1])\n",
    "\n",
    "# Function to classify geometry solely based on the computed normals.\n",
    "def classify_geometry(geometry):\n",
    "    classified = {\"walls\": [], \"floors\": [], \"ceilings\": [], \"columns\": [], \"beams\": []}\n",
    "    \n",
    "    for geom in geometry:\n",
    "        normal = get_normal_vector(geom)\n",
    "        # If the normal is nearly vertical (i.e., [0, 0, ±1]), classify as a floor.\n",
    "        if np.allclose(np.abs(normal), [0, 0, 1], atol=0.2):\n",
    "            classified[\"floors\"].append(geom)\n",
    "        # If the normal is nearly horizontal (i.e., [±1, 0, 0] or [0, ±1, 0]), classify as a wall.\n",
    "        elif (np.allclose(np.abs(normal), [1, 0, 0], atol=0.2) or \n",
    "              np.allclose(np.abs(normal), [0, 1, 0], atol=0.2)):\n",
    "            classified[\"walls\"].append(geom)\n",
    "        else:\n",
    "            # Fallback: if the normal doesn't clearly indicate either, treat as floor.\n",
    "            classified[\"floors\"].append(geom)\n",
    "        \n",
    "        # Placeholders for additional classification for columns and beams.\n",
    "        if hasattr(geom, 'IsCylinder') and geom.IsCylinder:\n",
    "            classified[\"columns\"].append(geom)\n",
    "        if hasattr(geom, 'IsBeam') and geom.IsBeam:\n",
    "            classified[\"beams\"].append(geom)\n",
    "            \n",
    "    return classified\n",
    "\n",
    "# Example usage for Stage 1:\n",
    "file_path = \"basicformMETERS.3dm\"  # Replace with the actual path to your Rhino file.\n",
    "try:\n",
    "    model = rhino3dm.File3dm.Read(file_path)\n",
    "    geometry = extract_geometry(model)\n",
    "    classified_elements = classify_geometry(geometry)\n",
    "    print(\"Geometry Classification Results:\")\n",
    "    for key, items in classified_elements.items():\n",
    "        print(f\"  {key.capitalize()}: {len(items)} element(s)\")\n",
    "except Exception as e:\n",
    "    print(\"Error loading or processing the file:\", e)\n"
   ]
  },
  {
   "cell_type": "code",
   "execution_count": 28,
   "metadata": {},
   "outputs": [
    {
     "ename": "AttributeError",
     "evalue": "'list' object has no attribute 'items'",
     "output_type": "error",
     "traceback": [
      "\u001b[1;31m---------------------------------------------------------------------------\u001b[0m",
      "\u001b[1;31mAttributeError\u001b[0m                            Traceback (most recent call last)",
      "Cell \u001b[1;32mIn[28], line 2\u001b[0m\n\u001b[0;32m      1\u001b[0m \u001b[38;5;66;03m#normal_surface = get_normal_vector(surface)\u001b[39;00m\n\u001b[1;32m----> 2\u001b[0m \u001b[38;5;28;01mfor\u001b[39;00m key,value \u001b[38;5;129;01min\u001b[39;00m \u001b[43mextract_geometry\u001b[49m\u001b[43m(\u001b[49m\u001b[43mmodel\u001b[49m\u001b[43m)\u001b[49m\u001b[38;5;241;43m.\u001b[39;49m\u001b[43mitems\u001b[49m():\n\u001b[0;32m      3\u001b[0m     \u001b[38;5;28mprint\u001b[39m(key, value)\n",
      "\u001b[1;31mAttributeError\u001b[0m: 'list' object has no attribute 'items'"
     ]
    }
   ],
   "source": [
    "#normal_surface = get_normal_vector(surface)\n",
    "for key,value in extract_geometry(model).items():\n",
    "    print(key, value)"
   ]
  },
  {
   "cell_type": "code",
   "execution_count": 6,
   "metadata": {},
   "outputs": [
    {
     "name": "stdout",
     "output_type": "stream",
     "text": [
      "['__class__', '__class_getitem__', '__contains__', '__delattr__', '__delitem__', '__dir__', '__doc__', '__eq__', '__format__', '__ge__', '__getattribute__', '__getitem__', '__gt__', '__hash__', '__init__', '__init_subclass__', '__ior__', '__iter__', '__le__', '__len__', '__lt__', '__ne__', '__new__', '__or__', '__reduce__', '__reduce_ex__', '__repr__', '__reversed__', '__ror__', '__setattr__', '__setitem__', '__sizeof__', '__str__', '__subclasshook__', 'clear', 'copy', 'fromkeys', 'get', 'items', 'keys', 'pop', 'popitem', 'setdefault', 'update', 'values']\n",
      "Help on dict object:\n",
      "\n",
      "class dict(object)\n",
      " |  dict() -> new empty dictionary\n",
      " |  dict(mapping) -> new dictionary initialized from a mapping object's\n",
      " |      (key, value) pairs\n",
      " |  dict(iterable) -> new dictionary initialized as if via:\n",
      " |      d = {}\n",
      " |      for k, v in iterable:\n",
      " |          d[k] = v\n",
      " |  dict(**kwargs) -> new dictionary initialized with the name=value pairs\n",
      " |      in the keyword argument list.  For example:  dict(one=1, two=2)\n",
      " |  \n",
      " |  Built-in subclasses:\n",
      " |      StgDict\n",
      " |  \n",
      " |  Methods defined here:\n",
      " |  \n",
      " |  __contains__(self, key, /)\n",
      " |      True if the dictionary has the specified key, else False.\n",
      " |  \n",
      " |  __delitem__(self, key, /)\n",
      " |      Delete self[key].\n",
      " |  \n",
      " |  __eq__(self, value, /)\n",
      " |      Return self==value.\n",
      " |  \n",
      " |  __ge__(self, value, /)\n",
      " |      Return self>=value.\n",
      " |  \n",
      " |  __getattribute__(self, name, /)\n",
      " |      Return getattr(self, name).\n",
      " |  \n",
      " |  __getitem__(...)\n",
      " |      x.__getitem__(y) <==> x[y]\n",
      " |  \n",
      " |  __gt__(self, value, /)\n",
      " |      Return self>value.\n",
      " |  \n",
      " |  __init__(self, /, *args, **kwargs)\n",
      " |      Initialize self.  See help(type(self)) for accurate signature.\n",
      " |  \n",
      " |  __ior__(self, value, /)\n",
      " |      Return self|=value.\n",
      " |  \n",
      " |  __iter__(self, /)\n",
      " |      Implement iter(self).\n",
      " |  \n",
      " |  __le__(self, value, /)\n",
      " |      Return self<=value.\n",
      " |  \n",
      " |  __len__(self, /)\n",
      " |      Return len(self).\n",
      " |  \n",
      " |  __lt__(self, value, /)\n",
      " |      Return self<value.\n",
      " |  \n",
      " |  __ne__(self, value, /)\n",
      " |      Return self!=value.\n",
      " |  \n",
      " |  __or__(self, value, /)\n",
      " |      Return self|value.\n",
      " |  \n",
      " |  __repr__(self, /)\n",
      " |      Return repr(self).\n",
      " |  \n",
      " |  __reversed__(self, /)\n",
      " |      Return a reverse iterator over the dict keys.\n",
      " |  \n",
      " |  __ror__(self, value, /)\n",
      " |      Return value|self.\n",
      " |  \n",
      " |  __setitem__(self, key, value, /)\n",
      " |      Set self[key] to value.\n",
      " |  \n",
      " |  __sizeof__(...)\n",
      " |      D.__sizeof__() -> size of D in memory, in bytes\n",
      " |  \n",
      " |  clear(...)\n",
      " |      D.clear() -> None.  Remove all items from D.\n",
      " |  \n",
      " |  copy(...)\n",
      " |      D.copy() -> a shallow copy of D\n",
      " |  \n",
      " |  get(self, key, default=None, /)\n",
      " |      Return the value for key if key is in the dictionary, else default.\n",
      " |  \n",
      " |  items(...)\n",
      " |      D.items() -> a set-like object providing a view on D's items\n",
      " |  \n",
      " |  keys(...)\n",
      " |      D.keys() -> a set-like object providing a view on D's keys\n",
      " |  \n",
      " |  pop(...)\n",
      " |      D.pop(k[,d]) -> v, remove specified key and return the corresponding value.\n",
      " |      \n",
      " |      If the key is not found, return the default if given; otherwise,\n",
      " |      raise a KeyError.\n",
      " |  \n",
      " |  popitem(self, /)\n",
      " |      Remove and return a (key, value) pair as a 2-tuple.\n",
      " |      \n",
      " |      Pairs are returned in LIFO (last-in, first-out) order.\n",
      " |      Raises KeyError if the dict is empty.\n",
      " |  \n",
      " |  setdefault(self, key, default=None, /)\n",
      " |      Insert key with a value of default if key is not in the dictionary.\n",
      " |      \n",
      " |      Return the value for key if key is in the dictionary, else default.\n",
      " |  \n",
      " |  update(...)\n",
      " |      D.update([E, ]**F) -> None.  Update D from dict/iterable E and F.\n",
      " |      If E is present and has a .keys() method, then does:  for k in E: D[k] = E[k]\n",
      " |      If E is present and lacks a .keys() method, then does:  for k, v in E: D[k] = v\n",
      " |      In either case, this is followed by: for k in F:  D[k] = F[k]\n",
      " |  \n",
      " |  values(...)\n",
      " |      D.values() -> an object providing a view on D's values\n",
      " |  \n",
      " |  ----------------------------------------------------------------------\n",
      " |  Class methods defined here:\n",
      " |  \n",
      " |  __class_getitem__(...) from builtins.type\n",
      " |      See PEP 585\n",
      " |  \n",
      " |  fromkeys(iterable, value=None, /) from builtins.type\n",
      " |      Create a new dictionary with keys from iterable and values set to value.\n",
      " |  \n",
      " |  ----------------------------------------------------------------------\n",
      " |  Static methods defined here:\n",
      " |  \n",
      " |  __new__(*args, **kwargs) from builtins.type\n",
      " |      Create and return a new object.  See help(type) for accurate signature.\n",
      " |  \n",
      " |  ----------------------------------------------------------------------\n",
      " |  Data and other attributes defined here:\n",
      " |  \n",
      " |  __hash__ = None\n",
      "\n",
      "None\n"
     ]
    }
   ],
   "source": [
    "print(dir(classified_elements))\n",
    "print(help(classified_elements))"
   ]
  },
  {
   "cell_type": "code",
   "execution_count": 7,
   "metadata": {},
   "outputs": [
    {
     "name": "stdout",
     "output_type": "stream",
     "text": [
      "Walls:  [<rhino3dm._rhino3dm.Brep object at 0x0000024DBDB975B0>, <rhino3dm._rhino3dm.Brep object at 0x0000024DBDB96C70>, <rhino3dm._rhino3dm.Brep object at 0x0000024DBDB94170>, <rhino3dm._rhino3dm.Brep object at 0x0000024DBDB6E470>, <rhino3dm._rhino3dm.Brep object at 0x0000024DBDB6E8B0>, <rhino3dm._rhino3dm.Brep object at 0x0000024DBDB9AFB0>, <rhino3dm._rhino3dm.Brep object at 0x0000024DBDB9A0F0>, <rhino3dm._rhino3dm.Brep object at 0x0000024DBDB6F430>, <rhino3dm._rhino3dm.Brep object at 0x0000024DBDBD5EF0>, <rhino3dm._rhino3dm.Brep object at 0x0000024DBDBD52B0>, <rhino3dm._rhino3dm.Brep object at 0x0000024DBDBD45B0>, <rhino3dm._rhino3dm.Brep object at 0x0000024DBDBD58B0>, <rhino3dm._rhino3dm.Brep object at 0x0000024DBDBB84F0>, <rhino3dm._rhino3dm.Brep object at 0x0000024DBDBB9270>, <rhino3dm._rhino3dm.Brep object at 0x0000024DBDBB8630>, <rhino3dm._rhino3dm.Brep object at 0x0000024DBDBB9D70>, <rhino3dm._rhino3dm.Brep object at 0x0000024DBDBEAA70>, <rhino3dm._rhino3dm.Brep object at 0x0000024DBDBE82B0>, <rhino3dm._rhino3dm.Brep object at 0x0000024DBDBE88B0>, <rhino3dm._rhino3dm.Brep object at 0x0000024DBDBC9670>]\n"
     ]
    }
   ],
   "source": [
    "print(\"Walls: \", classified_elements[\"walls\"])"
   ]
  },
  {
   "cell_type": "code",
   "execution_count": 12,
   "metadata": {},
   "outputs": [
    {
     "name": "stdout",
     "output_type": "stream",
     "text": [
      "dict_keys(['walls', 'floors', 'ceilings', 'columns', 'beams'])\n"
     ]
    }
   ],
   "source": [
    "print(classified_elements.keys())"
   ]
  },
  {
   "cell_type": "code",
   "execution_count": 16,
   "metadata": {},
   "outputs": [
    {
     "ename": "AttributeError",
     "evalue": "'dict_keys' object has no attribute 'values'",
     "output_type": "error",
     "traceback": [
      "\u001b[1;31m---------------------------------------------------------------------------\u001b[0m",
      "\u001b[1;31mAttributeError\u001b[0m                            Traceback (most recent call last)",
      "Cell \u001b[1;32mIn[16], line 1\u001b[0m\n\u001b[1;32m----> 1\u001b[0m \u001b[38;5;28mprint\u001b[39m(\u001b[43mclassified_elements\u001b[49m\u001b[38;5;241;43m.\u001b[39;49m\u001b[43mkeys\u001b[49m\u001b[43m(\u001b[49m\u001b[43m)\u001b[49m\u001b[38;5;241;43m.\u001b[39;49m\u001b[43mvalues\u001b[49m())\n",
      "\u001b[1;31mAttributeError\u001b[0m: 'dict_keys' object has no attribute 'values'"
     ]
    }
   ],
   "source": [
    "print(classified_elements.keys().values())"
   ]
  },
  {
   "cell_type": "code",
   "execution_count": 17,
   "metadata": {},
   "outputs": [
    {
     "name": "stdout",
     "output_type": "stream",
     "text": [
      "walls [<rhino3dm._rhino3dm.Brep object at 0x0000024DBDB975B0>, <rhino3dm._rhino3dm.Brep object at 0x0000024DBDB96C70>, <rhino3dm._rhino3dm.Brep object at 0x0000024DBDB94170>, <rhino3dm._rhino3dm.Brep object at 0x0000024DBDB6E470>, <rhino3dm._rhino3dm.Brep object at 0x0000024DBDB6E8B0>, <rhino3dm._rhino3dm.Brep object at 0x0000024DBDB9AFB0>, <rhino3dm._rhino3dm.Brep object at 0x0000024DBDB9A0F0>, <rhino3dm._rhino3dm.Brep object at 0x0000024DBDB6F430>, <rhino3dm._rhino3dm.Brep object at 0x0000024DBDBD5EF0>, <rhino3dm._rhino3dm.Brep object at 0x0000024DBDBD52B0>, <rhino3dm._rhino3dm.Brep object at 0x0000024DBDBD45B0>, <rhino3dm._rhino3dm.Brep object at 0x0000024DBDBD58B0>, <rhino3dm._rhino3dm.Brep object at 0x0000024DBDBB84F0>, <rhino3dm._rhino3dm.Brep object at 0x0000024DBDBB9270>, <rhino3dm._rhino3dm.Brep object at 0x0000024DBDBB8630>, <rhino3dm._rhino3dm.Brep object at 0x0000024DBDBB9D70>, <rhino3dm._rhino3dm.Brep object at 0x0000024DBDBEAA70>, <rhino3dm._rhino3dm.Brep object at 0x0000024DBDBE82B0>, <rhino3dm._rhino3dm.Brep object at 0x0000024DBDBE88B0>, <rhino3dm._rhino3dm.Brep object at 0x0000024DBDBC9670>]\n",
      "floors [<rhino3dm._rhino3dm.Brep object at 0x0000024DBDB6F3B0>, <rhino3dm._rhino3dm.Brep object at 0x0000024DBDB6FEF0>, <rhino3dm._rhino3dm.Brep object at 0x0000024DBDB3FA70>, <rhino3dm._rhino3dm.Brep object at 0x0000024DBDB3FA30>, <rhino3dm._rhino3dm.Brep object at 0x0000024DBCA6F170>, <rhino3dm._rhino3dm.Brep object at 0x0000024DBDBD5BB0>, <rhino3dm._rhino3dm.Brep object at 0x0000024DBDBD63B0>, <rhino3dm._rhino3dm.Brep object at 0x0000024DBDBD4630>, <rhino3dm._rhino3dm.Brep object at 0x0000024DBDBBB3F0>, <rhino3dm._rhino3dm.Brep object at 0x0000024DBDBB8370>, <rhino3dm._rhino3dm.Brep object at 0x0000024DBDBEB6F0>, <rhino3dm._rhino3dm.Brep object at 0x0000024DBDBEBD30>, <rhino3dm._rhino3dm.Brep object at 0x0000024DBDBCAF70>, <rhino3dm._rhino3dm.Brep object at 0x0000024DBDBC90F0>]\n",
      "ceilings []\n",
      "columns []\n",
      "beams []\n"
     ]
    }
   ],
   "source": [
    "for key,value in classified_elements.items():\n",
    "    print(key, value)"
   ]
  }
 ],
 "metadata": {
  "kernelspec": {
   "display_name": "Python 3",
   "language": "python",
   "name": "python3"
  },
  "language_info": {
   "codemirror_mode": {
    "name": "ipython",
    "version": 3
   },
   "file_extension": ".py",
   "mimetype": "text/x-python",
   "name": "python",
   "nbconvert_exporter": "python",
   "pygments_lexer": "ipython3",
   "version": "3.10.6"
  }
 },
 "nbformat": 4,
 "nbformat_minor": 2
}
