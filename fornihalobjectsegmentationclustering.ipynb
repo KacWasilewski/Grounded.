{
 "cells": [
  {
   "cell_type": "code",
   "execution_count": 3,
   "metadata": {},
   "outputs": [
    {
     "name": "stdout",
     "output_type": "stream",
     "text": [
      "Error loading or processing the file: 'NoneType' object has no attribute 'Objects'\n"
     ]
    }
   ],
   "source": [
    "# Non Layers Version\n",
    "\n",
    "import numpy as np\n",
    "import rhino3dm\n",
    "\n",
    "# Function to extract geometry objects from a Rhino3dm model.\n",
    "def extract_geometry(model):\n",
    "    \"\"\"\n",
    "    Extracts geometry objects from a Rhino3dm model.\n",
    "    Returns a list of geometry objects (e.g., surfaces, Breps, Extrusions).\n",
    "    \"\"\"\n",
    "    geometry = []\n",
    "    for obj in model.Objects:\n",
    "        geom = obj.Geometry\n",
    "        if geom:\n",
    "            geometry.append(geom)\n",
    "    return geometry\n",
    "\n",
    "# Function to compute the normal vector for a given surface.\n",
    "def get_normal_vector(surface):\n",
    "    \"\"\"\n",
    "    Computes the normal vector for a given surface.\n",
    "    For Extrusion objects, converts them to a Brep (calling ToBrep with a boolean argument)\n",
    "    and uses the normal of the first face.\n",
    "    For Brep objects, uses the normal of the first face.\n",
    "    If the object has a NormalAt method, it will be used as a fallback.\n",
    "    \"\"\"\n",
    "    try:\n",
    "        type_name = type(surface).__name__\n",
    "        if type_name == \"Extrusion\":\n",
    "            # Convert the Extrusion to a Brep (providing False for splitKinkyFaces)\n",
    "            brep = surface.ToBrep(False)\n",
    "            if brep and len(brep.Faces) > 0:\n",
    "                face = brep.Faces[0]\n",
    "                normal = face.NormalAt(0.5, 0.5)\n",
    "                norm_val = np.linalg.norm([normal.X, normal.Y, normal.Z])\n",
    "                if norm_val != 0:\n",
    "                    return np.array([normal.X, normal.Y, normal.Z]) / norm_val\n",
    "        elif type_name == \"Brep\":\n",
    "            if len(surface.Faces) > 0:\n",
    "                face = surface.Faces[0]\n",
    "                normal = face.NormalAt(0.5, 0.5)\n",
    "                norm_val = np.linalg.norm([normal.X, normal.Y, normal.Z])\n",
    "                if norm_val != 0:\n",
    "                    return np.array([normal.X, normal.Y, normal.Z]) / norm_val\n",
    "        # Fallback: if the surface has a NormalAt method directly.\n",
    "        if hasattr(surface, \"NormalAt\"):\n",
    "            normal = surface.NormalAt(0.5, 0.5)\n",
    "            norm_val = np.linalg.norm([normal.X, normal.Y, normal.Z])\n",
    "            if norm_val != 0:\n",
    "                return np.array([normal.X, normal.Y, normal.Z]) / norm_val\n",
    "    except Exception as e:\n",
    "        print(\"Error computing normal for surface:\", e)\n",
    "    # Fallback normal (horizontal)\n",
    "    return np.array([0, 0, 1])\n",
    "\n",
    "# Function to classify geometry solely based on the computed normals.\n",
    "def classify_geometry(geometry):\n",
    "    classified = {\"walls\": [], \"floors\": [], \"ceilings\": [], \"columns\": [], \"beams\": []}\n",
    "    \n",
    "    for geom in geometry:\n",
    "        normal = get_normal_vector(geom)\n",
    "        # If the normal is nearly vertical (i.e., [0, 0, ±1]), classify as a floor.\n",
    "        if np.allclose(np.abs(normal), [0, 0, 1], atol=0.2):\n",
    "            classified[\"floors\"].append(geom)\n",
    "        # If the normal is nearly horizontal (i.e., [±1, 0, 0] or [0, ±1, 0]), classify as a wall.\n",
    "        elif (np.allclose(np.abs(normal), [1, 0, 0], atol=0.2) or \n",
    "              np.allclose(np.abs(normal), [0, 1, 0], atol=0.2)):\n",
    "            classified[\"walls\"].append(geom)\n",
    "        else:\n",
    "            # Fallback: if the normal doesn't clearly indicate either, treat as floor.\n",
    "            classified[\"floors\"].append(geom)\n",
    "        \n",
    "        # Placeholders for additional classification for columns and beams.\n",
    "        if hasattr(geom, 'IsCylinder') and geom.IsCylinder:\n",
    "            classified[\"columns\"].append(geom)\n",
    "        if hasattr(geom, 'IsBeam') and geom.IsBeam:\n",
    "            classified[\"beams\"].append(geom)\n",
    "            \n",
    "    return classified\n",
    "\n",
    "# Example usage for Stage 1:\n",
    "file_path = \"basicformMETERS.3dm\"  # Replace with the actual path to your Rhino file.\n",
    "try:\n",
    "    model = rhino3dm.File3dm.Read(file_path)\n",
    "    geometry = extract_geometry(model)\n",
    "    classified_elements = classify_geometry(geometry)\n",
    "    print(\"Geometry Classification Results:\")\n",
    "    for key, items in classified_elements.items():\n",
    "        print(f\"  {key.capitalize()}: {len(items)} element(s)\")\n",
    "except Exception as e:\n",
    "    print(\"Error loading or processing the file:\", e)\n"
   ]
  },
  {
   "cell_type": "code",
   "execution_count": 2,
   "metadata": {},
   "outputs": [
    {
     "name": "stdout",
     "output_type": "stream",
     "text": [
      "Collecting rhino3dm\n",
      "  Obtaining dependency information for rhino3dm from https://files.pythonhosted.org/packages/45/cc/5a9b8976aac903c2112840cc177f3101887efc7c5998e1360cd98953e139/rhino3dm-8.9.0-cp310-cp310-win_amd64.whl.metadata\n",
      "  Downloading rhino3dm-8.9.0-cp310-cp310-win_amd64.whl.metadata (1.4 kB)\n",
      "Downloading rhino3dm-8.9.0-cp310-cp310-win_amd64.whl (2.4 MB)\n",
      "   ---------------------------------------- 0.0/2.4 MB ? eta -:--:--\n",
      "   - -------------------------------------- 0.1/2.4 MB ? eta -:--:--\n",
      "   -- ------------------------------------- 0.2/2.4 MB 3.5 MB/s eta 0:00:01\n",
      "   ---------- ----------------------------- 0.6/2.4 MB 5.0 MB/s eta 0:00:01\n",
      "   ----------------- ---------------------- 1.0/2.4 MB 7.3 MB/s eta 0:00:01\n",
      "   --------------------------- ------------ 1.6/2.4 MB 7.4 MB/s eta 0:00:01\n",
      "   ---------------------------------- ----- 2.1/2.4 MB 8.8 MB/s eta 0:00:01\n",
      "   ---------------------------------------  2.4/2.4 MB 7.6 MB/s eta 0:00:01\n",
      "   ---------------------------------------- 2.4/2.4 MB 6.9 MB/s eta 0:00:00\n",
      "Installing collected packages: rhino3dm\n",
      "Successfully installed rhino3dm-8.9.0\n"
     ]
    },
    {
     "name": "stderr",
     "output_type": "stream",
     "text": [
      "\n",
      "[notice] A new release of pip is available: 23.2.1 -> 25.0.1\n",
      "[notice] To update, run: python.exe -m pip install --upgrade pip\n"
     ]
    }
   ],
   "source": [
    "!pip install rhino3dm"
   ]
  }
 ],
 "metadata": {
  "kernelspec": {
   "display_name": "Python 3",
   "language": "python",
   "name": "python3"
  },
  "language_info": {
   "codemirror_mode": {
    "name": "ipython",
    "version": 3
   },
   "file_extension": ".py",
   "mimetype": "text/x-python",
   "name": "python",
   "nbconvert_exporter": "python",
   "pygments_lexer": "ipython3",
   "version": "3.10.6"
  }
 },
 "nbformat": 4,
 "nbformat_minor": 2
}
