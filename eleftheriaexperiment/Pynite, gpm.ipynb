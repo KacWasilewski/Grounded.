{
 "cells": [
  {
   "cell_type": "code",
   "execution_count": 2,
   "metadata": {},
   "outputs": [
    {
     "name": "stdout",
     "output_type": "stream",
     "text": [
      "Requirement already satisfied: PyNiteFEA==0.0.62 in c:\\users\\papad\\anaconda3\\lib\\site-packages (0.0.62)\n",
      "Requirement already satisfied: numpy in c:\\users\\papad\\anaconda3\\lib\\site-packages (from PyNiteFEA==0.0.62) (1.26.4)\n",
      "Requirement already satisfied: matplotlib in c:\\users\\papad\\anaconda3\\lib\\site-packages (from PyNiteFEA==0.0.62) (3.8.4)\n",
      "Requirement already satisfied: PrettyTable in c:\\users\\papad\\anaconda3\\lib\\site-packages (from PyNiteFEA==0.0.62) (3.15.1)\n",
      "Requirement already satisfied: contourpy>=1.0.1 in c:\\users\\papad\\anaconda3\\lib\\site-packages (from matplotlib->PyNiteFEA==0.0.62) (1.2.0)\n",
      "Requirement already satisfied: cycler>=0.10 in c:\\users\\papad\\anaconda3\\lib\\site-packages (from matplotlib->PyNiteFEA==0.0.62) (0.11.0)\n",
      "Requirement already satisfied: fonttools>=4.22.0 in c:\\users\\papad\\anaconda3\\lib\\site-packages (from matplotlib->PyNiteFEA==0.0.62) (4.51.0)\n",
      "Requirement already satisfied: kiwisolver>=1.3.1 in c:\\users\\papad\\anaconda3\\lib\\site-packages (from matplotlib->PyNiteFEA==0.0.62) (1.4.4)\n",
      "Requirement already satisfied: packaging>=20.0 in c:\\users\\papad\\anaconda3\\lib\\site-packages (from matplotlib->PyNiteFEA==0.0.62) (23.2)\n",
      "Requirement already satisfied: pillow>=8 in c:\\users\\papad\\anaconda3\\lib\\site-packages (from matplotlib->PyNiteFEA==0.0.62) (10.3.0)\n",
      "Requirement already satisfied: pyparsing>=2.3.1 in c:\\users\\papad\\anaconda3\\lib\\site-packages (from matplotlib->PyNiteFEA==0.0.62) (3.0.9)\n",
      "Requirement already satisfied: python-dateutil>=2.7 in c:\\users\\papad\\anaconda3\\lib\\site-packages (from matplotlib->PyNiteFEA==0.0.62) (2.9.0.post0)\n",
      "Requirement already satisfied: wcwidth in c:\\users\\papad\\anaconda3\\lib\\site-packages (from PrettyTable->PyNiteFEA==0.0.62) (0.2.5)\n",
      "Requirement already satisfied: six>=1.5 in c:\\users\\papad\\anaconda3\\lib\\site-packages (from python-dateutil>=2.7->matplotlib->PyNiteFEA==0.0.62) (1.16.0)\n"
     ]
    }
   ],
   "source": [
    "!pip install PyNiteFEA==0.0.62"
   ]
  },
  {
   "cell_type": "code",
   "execution_count": 16,
   "metadata": {},
   "outputs": [
    {
     "name": "stdout",
     "output_type": "stream",
     "text": [
      "Requirement already satisfied: PyNiteFEA in c:\\users\\papad\\anaconda3\\lib\\site-packages (0.0.62)\n",
      "Requirement already satisfied: numpy in c:\\users\\papad\\anaconda3\\lib\\site-packages (from PyNiteFEA) (1.26.4)\n",
      "Requirement already satisfied: matplotlib in c:\\users\\papad\\anaconda3\\lib\\site-packages (from PyNiteFEA) (3.8.4)\n",
      "Requirement already satisfied: PrettyTable in c:\\users\\papad\\anaconda3\\lib\\site-packages (from PyNiteFEA) (3.15.1)\n",
      "Requirement already satisfied: contourpy>=1.0.1 in c:\\users\\papad\\anaconda3\\lib\\site-packages (from matplotlib->PyNiteFEA) (1.2.0)\n",
      "Requirement already satisfied: cycler>=0.10 in c:\\users\\papad\\anaconda3\\lib\\site-packages (from matplotlib->PyNiteFEA) (0.11.0)\n",
      "Requirement already satisfied: fonttools>=4.22.0 in c:\\users\\papad\\anaconda3\\lib\\site-packages (from matplotlib->PyNiteFEA) (4.51.0)\n",
      "Requirement already satisfied: kiwisolver>=1.3.1 in c:\\users\\papad\\anaconda3\\lib\\site-packages (from matplotlib->PyNiteFEA) (1.4.4)\n",
      "Requirement already satisfied: packaging>=20.0 in c:\\users\\papad\\anaconda3\\lib\\site-packages (from matplotlib->PyNiteFEA) (23.2)\n",
      "Requirement already satisfied: pillow>=8 in c:\\users\\papad\\anaconda3\\lib\\site-packages (from matplotlib->PyNiteFEA) (10.3.0)\n",
      "Requirement already satisfied: pyparsing>=2.3.1 in c:\\users\\papad\\anaconda3\\lib\\site-packages (from matplotlib->PyNiteFEA) (3.0.9)\n",
      "Requirement already satisfied: python-dateutil>=2.7 in c:\\users\\papad\\anaconda3\\lib\\site-packages (from matplotlib->PyNiteFEA) (2.9.0.post0)\n",
      "Requirement already satisfied: wcwidth in c:\\users\\papad\\anaconda3\\lib\\site-packages (from PrettyTable->PyNiteFEA) (0.2.5)\n",
      "Requirement already satisfied: six>=1.5 in c:\\users\\papad\\anaconda3\\lib\\site-packages (from python-dateutil>=2.7->matplotlib->PyNiteFEA) (1.16.0)\n"
     ]
    }
   ],
   "source": [
    "!pip install PyNiteFEA"
   ]
  },
  {
   "cell_type": "code",
   "execution_count": 19,
   "metadata": {},
   "outputs": [
    {
     "ename": "ModuleNotFoundError",
     "evalue": "No module named 'PyNite'",
     "output_type": "error",
     "traceback": [
      "\u001b[1;31m---------------------------------------------------------------------------\u001b[0m",
      "\u001b[1;31mModuleNotFoundError\u001b[0m                       Traceback (most recent call last)",
      "Cell \u001b[1;32mIn[19], line 1\u001b[0m\n\u001b[1;32m----> 1\u001b[0m \u001b[38;5;28;01mimport\u001b[39;00m \u001b[38;5;21;01mPyNite\u001b[39;00m\n\u001b[0;32m      2\u001b[0m \u001b[38;5;28mprint\u001b[39m(\u001b[38;5;124m\"\u001b[39m\u001b[38;5;124mPyNite is installed successfully!\u001b[39m\u001b[38;5;124m\"\u001b[39m)\n",
      "\u001b[1;31mModuleNotFoundError\u001b[0m: No module named 'PyNite'"
     ]
    }
   ],
   "source": [
    "import PyNite\n",
    "print(\"PyNite is installed successfully!\")"
   ]
  },
  {
   "cell_type": "code",
   "execution_count": 12,
   "metadata": {},
   "outputs": [
    {
     "ename": "ModuleNotFoundError",
     "evalue": "No module named 'PyNite'",
     "output_type": "error",
     "traceback": [
      "\u001b[1;31m---------------------------------------------------------------------------\u001b[0m",
      "\u001b[1;31mModuleNotFoundError\u001b[0m                       Traceback (most recent call last)",
      "Cell \u001b[1;32mIn[12], line 1\u001b[0m\n\u001b[1;32m----> 1\u001b[0m \u001b[38;5;28;01mfrom\u001b[39;00m \u001b[38;5;21;01mPyNite\u001b[39;00m \u001b[38;5;28;01mimport\u001b[39;00m FEModel3D\n\u001b[0;32m      3\u001b[0m \u001b[38;5;66;03m# Create a new finite element model\u001b[39;00m\n\u001b[0;32m      4\u001b[0m model \u001b[38;5;241m=\u001b[39m FEModel3D()\n",
      "\u001b[1;31mModuleNotFoundError\u001b[0m: No module named 'PyNite'"
     ]
    }
   ],
   "source": [
    "from PyNite import FEModel3D\n",
    "\n",
    "# Create a new finite element model\n",
    "model = FEModel3D()\n",
    "\n",
    "# Define node positions for columns (supports at ground level)\n",
    "model.add_node(\"N1\", 0, 0, 0)\n",
    "model.add_node(\"N2\", 4, 0, 0)\n",
    "model.add_node(\"N3\", 8, 0, 0)\n",
    "model.add_node(\"N1_top\", 0, 0, 3)\n",
    "model.add_node(\"N2_top\", 4, 0, 3)\n",
    "model.add_node(\"N3_top\", 8, 0, 3)\n",
    "\n",
    "# Define columns\n",
    "model.add_member(\"C1\", \"N1\", \"N1_top\", \"Column\")\n",
    "model.add_member(\"C2\", \"N2\", \"N2_top\", \"Column\")\n",
    "model.add_member(\"C3\", \"N3\", \"N3_top\", \"Column\")\n",
    "\n",
    "# Define beams\n",
    "model.add_member(\"B1\", \"N1_top\", \"N2_top\", \"Beam\")\n",
    "model.add_member(\"B2\", \"N2_top\", \"N3_top\", \"Beam\")\n",
    "\n",
    "# Define material properties\n",
    "model.add_material(\"Concrete\", 25000, 0.2, 2400)\n",
    "model.add_section(\"Column\", \"Rectangular\", 0.3, 0.3)\n",
    "model.add_section(\"Beam\", \"Rectangular\", 0.3, 0.5)\n",
    "\n",
    "# Assign support conditions (fixed at ground level)\n",
    "model.def_support(\"N1\", True, True, True, True, True, True)\n",
    "model.def_support(\"N2\", True, True, True, True, True, True)\n",
    "model.def_support(\"N3\", True, True, True, True, True, True)\n",
    "\n",
    "# Apply loads (e.g., dead load on beams)\n",
    "model.add_member_dist_load(\"B1\", \"Fy\", -10, -10)\n",
    "model.add_member_dist_load(\"B2\", \"Fy\", -10, -10)\n",
    "\n",
    "# Run the finite element analysis\n",
    "model.analyze()\n",
    "\n",
    "# Extract results\n",
    "print(\"Deflections at top nodes:\")\n",
    "for node in [\"N1_top\", \"N2_top\", \"N3_top\"]:\n",
    "    print(f\"{node}: DY = {model.Nodes[node].DY:.4f} m\")\n",
    "\n",
    "print(\"\\nAxial forces in columns:\")\n",
    "for member in [\"C1\", \"C2\", \"C3\"]:\n",
    "    print(f\"{member}: Axial Force = {model.Members[member].axial():.2f} kN\")\n"
   ]
  },
  {
   "cell_type": "code",
   "execution_count": null,
   "metadata": {},
   "outputs": [],
   "source": []
  },
  {
   "cell_type": "code",
   "execution_count": null,
   "metadata": {},
   "outputs": [],
   "source": []
  },
  {
   "cell_type": "code",
   "execution_count": null,
   "metadata": {},
   "outputs": [],
   "source": []
  },
  {
   "cell_type": "code",
   "execution_count": null,
   "metadata": {},
   "outputs": [],
   "source": []
  },
  {
   "cell_type": "code",
   "execution_count": null,
   "metadata": {},
   "outputs": [],
   "source": []
  },
  {
   "cell_type": "code",
   "execution_count": null,
   "metadata": {},
   "outputs": [],
   "source": []
  },
  {
   "cell_type": "code",
   "execution_count": null,
   "metadata": {},
   "outputs": [],
   "source": []
  },
  {
   "cell_type": "code",
   "execution_count": null,
   "metadata": {},
   "outputs": [],
   "source": []
  },
  {
   "cell_type": "code",
   "execution_count": null,
   "metadata": {},
   "outputs": [],
   "source": []
  },
  {
   "cell_type": "code",
   "execution_count": null,
   "metadata": {},
   "outputs": [],
   "source": []
  },
  {
   "cell_type": "code",
   "execution_count": null,
   "metadata": {},
   "outputs": [],
   "source": []
  },
  {
   "cell_type": "code",
   "execution_count": null,
   "metadata": {},
   "outputs": [],
   "source": []
  }
 ],
 "metadata": {
  "kernelspec": {
   "display_name": "base",
   "language": "python",
   "name": "python3"
  },
  "language_info": {
   "codemirror_mode": {
    "name": "ipython",
    "version": 3
   },
   "file_extension": ".py",
   "mimetype": "text/x-python",
   "name": "python",
   "nbconvert_exporter": "python",
   "pygments_lexer": "ipython3",
   "version": "3.12.4"
  }
 },
 "nbformat": 4,
 "nbformat_minor": 2
}
